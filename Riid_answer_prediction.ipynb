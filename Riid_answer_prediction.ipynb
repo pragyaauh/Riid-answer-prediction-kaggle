{
 "cells": [
  {
   "cell_type": "code",
   "execution_count": 1,
   "metadata": {
    "_cell_guid": "b1076dfc-b9ad-4769-8c92-a6c4dae69d19",
    "_uuid": "8f2839f25d086af736a60e9eeb907d3b93b6e0e5",
    "execution": {
     "iopub.execute_input": "2020-11-26T05:58:12.382683Z",
     "iopub.status.busy": "2020-11-26T05:58:12.381914Z",
     "iopub.status.idle": "2020-11-26T05:58:12.388273Z",
     "shell.execute_reply": "2020-11-26T05:58:12.387606Z"
    },
    "papermill": {
     "duration": 0.03625,
     "end_time": "2020-11-26T05:58:12.388395",
     "exception": false,
     "start_time": "2020-11-26T05:58:12.352145",
     "status": "completed"
    },
    "tags": []
   },
   "outputs": [
    {
     "name": "stdout",
     "output_type": "stream",
     "text": [
      "/kaggle/input/riiid-test-answer-prediction/example_sample_submission.csv\n",
      "/kaggle/input/riiid-test-answer-prediction/train.csv\n",
      "/kaggle/input/riiid-test-answer-prediction/example_test.csv\n",
      "/kaggle/input/riiid-test-answer-prediction/questions.csv\n",
      "/kaggle/input/riiid-test-answer-prediction/lectures.csv\n",
      "/kaggle/input/riiid-test-answer-prediction/riiideducation/__init__.py\n",
      "/kaggle/input/riiid-test-answer-prediction/riiideducation/competition.cpython-37m-x86_64-linux-gnu.so\n"
     ]
    }
   ],
   "source": [
    "# This Python 3 environment comes with many helpful analytics libraries installed\n",
    "# It is defined by the kaggle/python Docker image: https://github.com/kaggle/docker-python\n",
    "# For example, here's several helpful packages to load\n",
    "\n",
    "import numpy as np # linear algebra\n",
    "import pandas as pd # data processing, CSV file I/O (e.g. pd.read_csv)\n",
    "\n",
    "# Input data files are available in the read-only \"../input/\" directory\n",
    "# For example, running this (by clicking run or pressing Shift+Enter) will list all files under the input directory\n",
    "\n",
    "import os\n",
    "for dirname, _, filenames in os.walk('/kaggle/input'):\n",
    "    for filename in filenames:\n",
    "        print(os.path.join(dirname, filename))\n",
    "\n",
    "# You can write up to 20GB to the current directory (/kaggle/working/) that gets preserved as output when you create a version using \"Save & Run All\" \n",
    "# You can also write temporary files to /kaggle/temp/, but they won't be saved outside of the current session"
   ]
  },
  {
   "cell_type": "code",
   "execution_count": 2,
   "metadata": {
    "execution": {
     "iopub.execute_input": "2020-11-26T05:58:12.445347Z",
     "iopub.status.busy": "2020-11-26T05:58:12.444676Z",
     "iopub.status.idle": "2020-11-26T05:58:33.551187Z",
     "shell.execute_reply": "2020-11-26T05:58:33.550602Z"
    },
    "papermill": {
     "duration": 21.138128,
     "end_time": "2020-11-26T05:58:33.551306",
     "exception": false,
     "start_time": "2020-11-26T05:58:12.413178",
     "status": "completed"
    },
    "tags": []
   },
   "outputs": [
    {
     "name": "stderr",
     "output_type": "stream",
     "text": [
      "/opt/conda/lib/python3.7/site-packages/numpy/lib/arraysetops.py:569: FutureWarning: elementwise comparison failed; returning scalar instead, but in the future will perform elementwise comparison\n",
      "  mask |= (ar1 == a)\n"
     ]
    }
   ],
   "source": [
    "train = pd.read_csv('/kaggle/input/riiid-test-answer-prediction/train.csv', low_memory=False, nrows=10**7, \n",
    "                       dtype={'row_id': 'int64', 'timestamp': 'int64', 'user_id': 'int32', 'content_id': 'int16', 'content_type_id': 'int8',\n",
    "                              'task_container_id': 'int16', 'user_answer': 'int8', 'answered_correctly': 'int8', 'prior_question_elapsed_time': 'float32', \n",
    "                             'prior_question_had_explanation': 'boolean',\n",
    "                             },index_col=0\n",
    "                      )\n",
    "question=pd.read_csv('/kaggle/input/riiid-test-answer-prediction/questions.csv')\n",
    "lecture=pd.read_csv('/kaggle/input/riiid-test-answer-prediction/lectures.csv')\n",
    "example=pd.read_csv('/kaggle/input/riiid-test-answer-prediction/example_test.csv')"
   ]
  },
  {
   "cell_type": "code",
   "execution_count": 3,
   "metadata": {
    "execution": {
     "iopub.execute_input": "2020-11-26T05:58:33.607212Z",
     "iopub.status.busy": "2020-11-26T05:58:33.606414Z",
     "iopub.status.idle": "2020-11-26T05:58:33.611435Z",
     "shell.execute_reply": "2020-11-26T05:58:33.610813Z"
    },
    "papermill": {
     "duration": 0.036486,
     "end_time": "2020-11-26T05:58:33.611573",
     "exception": false,
     "start_time": "2020-11-26T05:58:33.575087",
     "status": "completed"
    },
    "tags": []
   },
   "outputs": [
    {
     "data": {
      "text/plain": [
       "timestamp                           int64\n",
       "user_id                             int32\n",
       "content_id                          int16\n",
       "content_type_id                      int8\n",
       "task_container_id                   int16\n",
       "user_answer                          int8\n",
       "answered_correctly                   int8\n",
       "prior_question_elapsed_time       float32\n",
       "prior_question_had_explanation    boolean\n",
       "dtype: object"
      ]
     },
     "execution_count": 3,
     "metadata": {},
     "output_type": "execute_result"
    }
   ],
   "source": [
    "train.dtypes"
   ]
  },
  {
   "cell_type": "code",
   "execution_count": 4,
   "metadata": {
    "execution": {
     "iopub.execute_input": "2020-11-26T05:58:33.667478Z",
     "iopub.status.busy": "2020-11-26T05:58:33.666331Z",
     "iopub.status.idle": "2020-11-26T05:58:34.367984Z",
     "shell.execute_reply": "2020-11-26T05:58:34.368439Z"
    },
    "papermill": {
     "duration": 0.732954,
     "end_time": "2020-11-26T05:58:34.368611",
     "exception": false,
     "start_time": "2020-11-26T05:58:33.635657",
     "status": "completed"
    },
    "tags": []
   },
   "outputs": [
    {
     "data": {
      "text/plain": [
       "array([[<matplotlib.axes._subplots.AxesSubplot object at 0x7f8fc6469a10>]],\n",
       "      dtype=object)"
      ]
     },
     "execution_count": 4,
     "metadata": {},
     "output_type": "execute_result"
    },
    {
     "data": {
      "image/png": "[encoded data removed]",
      "text/plain": [
       "<Figure size 432x288 with 1 Axes>"
      ]
     },
     "metadata": {
      "needs_background": "light"
     },
     "output_type": "display_data"
    }
   ],
   "source": [
    "grouped_by_user=train.groupby('user_id')\n",
    "grouped_by_user.agg({'timestamp':'max'}).hist(bins=100)"
   ]
  },
  {
   "cell_type": "code",
   "execution_count": 5,
   "metadata": {
    "execution": {
     "iopub.execute_input": "2020-11-26T05:58:34.426264Z",
     "iopub.status.busy": "2020-11-26T05:58:34.425566Z",
     "iopub.status.idle": "2020-11-26T05:58:34.467319Z",
     "shell.execute_reply": "2020-11-26T05:58:34.466779Z"
    },
    "papermill": {
     "duration": 0.074159,
     "end_time": "2020-11-26T05:58:34.467432",
     "exception": false,
     "start_time": "2020-11-26T05:58:34.393273",
     "status": "completed"
    },
    "tags": []
   },
   "outputs": [
    {
     "data": {
      "text/plain": [
       "0.0195396"
      ]
     },
     "execution_count": 5,
     "metadata": {},
     "output_type": "execute_result"
    }
   ],
   "source": [
    "(train['answered_correctly']==-1).mean()"
   ]
  },
  {
   "cell_type": "code",
   "execution_count": 6,
   "metadata": {
    "execution": {
     "iopub.execute_input": "2020-11-26T05:58:34.523195Z",
     "iopub.status.busy": "2020-11-26T05:58:34.522538Z",
     "iopub.status.idle": "2020-11-26T05:58:35.039313Z",
     "shell.execute_reply": "2020-11-26T05:58:35.038763Z"
    },
    "papermill": {
     "duration": 0.546257,
     "end_time": "2020-11-26T05:58:35.039443",
     "exception": false,
     "start_time": "2020-11-26T05:58:34.493186",
     "status": "completed"
    },
    "tags": []
   },
   "outputs": [
    {
     "data": {
      "text/plain": [
       "0.6586115053703342"
      ]
     },
     "execution_count": 6,
     "metadata": {},
     "output_type": "execute_result"
    }
   ],
   "source": [
    "train_q_only=train[train['answered_correctly']!= -1]\n",
    "train_q_only.answered_correctly.mean()\n"
   ]
  },
  {
   "cell_type": "code",
   "execution_count": 7,
   "metadata": {
    "execution": {
     "iopub.execute_input": "2020-11-26T05:58:35.096301Z",
     "iopub.status.busy": "2020-11-26T05:58:35.095437Z",
     "iopub.status.idle": "2020-11-26T05:58:35.099066Z",
     "shell.execute_reply": "2020-11-26T05:58:35.098412Z"
    },
    "papermill": {
     "duration": 0.034206,
     "end_time": "2020-11-26T05:58:35.099183",
     "exception": false,
     "start_time": "2020-11-26T05:58:35.064977",
     "status": "completed"
    },
    "tags": []
   },
   "outputs": [],
   "source": [
    "grouped_by_user=train_q_only.groupby('user_id')"
   ]
  },
  {
   "cell_type": "code",
   "execution_count": 8,
   "metadata": {
    "execution": {
     "iopub.execute_input": "2020-11-26T05:58:35.159227Z",
     "iopub.status.busy": "2020-11-26T05:58:35.158565Z",
     "iopub.status.idle": "2020-11-26T05:58:36.532144Z",
     "shell.execute_reply": "2020-11-26T05:58:36.531526Z"
    },
    "papermill": {
     "duration": 1.405878,
     "end_time": "2020-11-26T05:58:36.532264",
     "exception": false,
     "start_time": "2020-11-26T05:58:35.126386",
     "status": "completed"
    },
    "tags": []
   },
   "outputs": [
    {
     "data": {
      "text/plain": [
       "<matplotlib.axes._subplots.AxesSubplot at 0x7f8fc58f5950>"
      ]
     },
     "execution_count": 8,
     "metadata": {},
     "output_type": "execute_result"
    },
    {
     "data": {
      "image/png": "[encoded data removed]",
      "text/plain": [
       "<Figure size 432x288 with 1 Axes>"
      ]
     },
     "metadata": {
      "needs_background": "light"
     },
     "output_type": "display_data"
    }
   ],
   "source": [
    "user_answers_df=train_q_only.groupby('user_id').agg({'answered_correctly':['mean','count']})\n",
    "user_answers_df[('answered_correctly','mean')].hist(bins=100)"
   ]
  },
  {
   "cell_type": "code",
   "execution_count": 9,
   "metadata": {
    "execution": {
     "iopub.execute_input": "2020-11-26T05:58:36.592134Z",
     "iopub.status.busy": "2020-11-26T05:58:36.591463Z",
     "iopub.status.idle": "2020-11-26T05:58:36.871660Z",
     "shell.execute_reply": "2020-11-26T05:58:36.872106Z"
    },
    "papermill": {
     "duration": 0.313531,
     "end_time": "2020-11-26T05:58:36.872262",
     "exception": false,
     "start_time": "2020-11-26T05:58:36.558731",
     "status": "completed"
    },
    "tags": []
   },
   "outputs": [
    {
     "data": {
      "text/plain": [
       "<matplotlib.axes._subplots.AxesSubplot at 0x7f8fc589b690>"
      ]
     },
     "execution_count": 9,
     "metadata": {},
     "output_type": "execute_result"
    },
    {
     "data": {
      "image/png": "[encoded data removed]",
      "text/plain": [
       "<Figure size 432x288 with 1 Axes>"
      ]
     },
     "metadata": {
      "needs_background": "light"
     },
     "output_type": "display_data"
    }
   ],
   "source": [
    "user_answers_df[user_answers_df[('answered_correctly','count')]< 50][('answered_correctly','mean')].hist(bins=100)\n"
   ]
  },
  {
   "cell_type": "code",
   "execution_count": 10,
   "metadata": {
    "execution": {
     "iopub.execute_input": "2020-11-26T05:58:36.934018Z",
     "iopub.status.busy": "2020-11-26T05:58:36.932997Z",
     "iopub.status.idle": "2020-11-26T05:58:37.243600Z",
     "shell.execute_reply": "2020-11-26T05:58:37.243055Z"
    },
    "papermill": {
     "duration": 0.343836,
     "end_time": "2020-11-26T05:58:37.243729",
     "exception": false,
     "start_time": "2020-11-26T05:58:36.899893",
     "status": "completed"
    },
    "tags": []
   },
   "outputs": [
    {
     "data": {
      "text/plain": [
       "<matplotlib.axes._subplots.AxesSubplot at 0x7f8fc4cb55d0>"
      ]
     },
     "execution_count": 10,
     "metadata": {},
     "output_type": "execute_result"
    },
    {
     "data": {
      "image/png": "[encoded data removed]",
      "text/plain": [
       "<Figure size 432x288 with 1 Axes>"
      ]
     },
     "metadata": {
      "needs_background": "light"
     },
     "output_type": "display_data"
    }
   ],
   "source": [
    "user_answers_df[user_answers_df[('answered_correctly','count')]>= 500][('answered_correctly','mean')].hist(bins=100)\n"
   ]
  },
  {
   "cell_type": "markdown",
   "metadata": {
    "papermill": {
     "duration": 0.029167,
     "end_time": "2020-11-26T05:58:37.302220",
     "exception": false,
     "start_time": "2020-11-26T05:58:37.273053",
     "status": "completed"
    },
    "tags": []
   },
   "source": [
    "**Answers by content**"
   ]
  },
  {
   "cell_type": "code",
   "execution_count": 11,
   "metadata": {
    "execution": {
     "iopub.execute_input": "2020-11-26T05:58:37.364965Z",
     "iopub.status.busy": "2020-11-26T05:58:37.364293Z",
     "iopub.status.idle": "2020-11-26T05:58:37.368044Z",
     "shell.execute_reply": "2020-11-26T05:58:37.367356Z"
    },
    "papermill": {
     "duration": 0.037058,
     "end_time": "2020-11-26T05:58:37.368163",
     "exception": false,
     "start_time": "2020-11-26T05:58:37.331105",
     "status": "completed"
    },
    "tags": []
   },
   "outputs": [],
   "source": [
    "grouped_by_content_df=train_q_only.groupby('content_id')"
   ]
  },
  {
   "cell_type": "code",
   "execution_count": 12,
   "metadata": {
    "execution": {
     "iopub.execute_input": "2020-11-26T05:58:37.432407Z",
     "iopub.status.busy": "2020-11-26T05:58:37.431755Z",
     "iopub.status.idle": "2020-11-26T05:58:37.859467Z",
     "shell.execute_reply": "2020-11-26T05:58:37.858930Z"
    },
    "papermill": {
     "duration": 0.462391,
     "end_time": "2020-11-26T05:58:37.859621",
     "exception": false,
     "start_time": "2020-11-26T05:58:37.397230",
     "status": "completed"
    },
    "tags": []
   },
   "outputs": [],
   "source": [
    "content_answers_df=grouped_by_content_df.agg({'answered_correctly':['count','mean']})"
   ]
  },
  {
   "cell_type": "code",
   "execution_count": 13,
   "metadata": {
    "execution": {
     "iopub.execute_input": "2020-11-26T05:58:37.923626Z",
     "iopub.status.busy": "2020-11-26T05:58:37.922960Z",
     "iopub.status.idle": "2020-11-26T05:58:38.734987Z",
     "shell.execute_reply": "2020-11-26T05:58:38.734241Z"
    },
    "papermill": {
     "duration": 0.846496,
     "end_time": "2020-11-26T05:58:38.735116",
     "exception": false,
     "start_time": "2020-11-26T05:58:37.888620",
     "status": "completed"
    },
    "tags": []
   },
   "outputs": [
    {
     "data": {
      "text/html": [
       "<div>\n",
       "<style scoped>\n",
       "    .dataframe tbody tr th:only-of-type {\n",
       "        vertical-align: middle;\n",
       "    }\n",
       "\n",
       "    .dataframe tbody tr th {\n",
       "        vertical-align: top;\n",
       "    }\n",
       "\n",
       "    .dataframe thead th {\n",
       "        text-align: right;\n",
       "    }\n",
       "</style>\n",
       "<table border=\"1\" class=\"dataframe\">\n",
       "  <thead>\n",
       "    <tr style=\"text-align: right;\">\n",
       "      <th></th>\n",
       "      <th>timestamp</th>\n",
       "      <th>user_id</th>\n",
       "      <th>content_id</th>\n",
       "      <th>content_type_id</th>\n",
       "      <th>task_container_id</th>\n",
       "      <th>user_answer</th>\n",
       "      <th>answered_correctly</th>\n",
       "      <th>prior_question_elapsed_time</th>\n",
       "      <th>prior_question_had_explanation</th>\n",
       "    </tr>\n",
       "    <tr>\n",
       "      <th>row_id</th>\n",
       "      <th></th>\n",
       "      <th></th>\n",
       "      <th></th>\n",
       "      <th></th>\n",
       "      <th></th>\n",
       "      <th></th>\n",
       "      <th></th>\n",
       "      <th></th>\n",
       "      <th></th>\n",
       "    </tr>\n",
       "  </thead>\n",
       "  <tbody>\n",
       "    <tr>\n",
       "      <th>0</th>\n",
       "      <td>0</td>\n",
       "      <td>115</td>\n",
       "      <td>5692</td>\n",
       "      <td>0</td>\n",
       "      <td>1</td>\n",
       "      <td>3</td>\n",
       "      <td>1</td>\n",
       "      <td>NaN</td>\n",
       "      <td>&lt;NA&gt;</td>\n",
       "    </tr>\n",
       "    <tr>\n",
       "      <th>1</th>\n",
       "      <td>56943</td>\n",
       "      <td>115</td>\n",
       "      <td>5716</td>\n",
       "      <td>0</td>\n",
       "      <td>2</td>\n",
       "      <td>2</td>\n",
       "      <td>1</td>\n",
       "      <td>37000.0</td>\n",
       "      <td>False</td>\n",
       "    </tr>\n",
       "    <tr>\n",
       "      <th>2</th>\n",
       "      <td>118363</td>\n",
       "      <td>115</td>\n",
       "      <td>128</td>\n",
       "      <td>0</td>\n",
       "      <td>0</td>\n",
       "      <td>0</td>\n",
       "      <td>1</td>\n",
       "      <td>55000.0</td>\n",
       "      <td>False</td>\n",
       "    </tr>\n",
       "    <tr>\n",
       "      <th>3</th>\n",
       "      <td>131167</td>\n",
       "      <td>115</td>\n",
       "      <td>7860</td>\n",
       "      <td>0</td>\n",
       "      <td>3</td>\n",
       "      <td>0</td>\n",
       "      <td>1</td>\n",
       "      <td>19000.0</td>\n",
       "      <td>False</td>\n",
       "    </tr>\n",
       "    <tr>\n",
       "      <th>4</th>\n",
       "      <td>137965</td>\n",
       "      <td>115</td>\n",
       "      <td>7922</td>\n",
       "      <td>0</td>\n",
       "      <td>4</td>\n",
       "      <td>1</td>\n",
       "      <td>1</td>\n",
       "      <td>11000.0</td>\n",
       "      <td>False</td>\n",
       "    </tr>\n",
       "    <tr>\n",
       "      <th>...</th>\n",
       "      <td>...</td>\n",
       "      <td>...</td>\n",
       "      <td>...</td>\n",
       "      <td>...</td>\n",
       "      <td>...</td>\n",
       "      <td>...</td>\n",
       "      <td>...</td>\n",
       "      <td>...</td>\n",
       "      <td>...</td>\n",
       "    </tr>\n",
       "    <tr>\n",
       "      <th>9883835</th>\n",
       "      <td>1896430</td>\n",
       "      <td>214543269</td>\n",
       "      <td>8114</td>\n",
       "      <td>0</td>\n",
       "      <td>34</td>\n",
       "      <td>0</td>\n",
       "      <td>1</td>\n",
       "      <td>21250.0</td>\n",
       "      <td>True</td>\n",
       "    </tr>\n",
       "    <tr>\n",
       "      <th>9883836</th>\n",
       "      <td>1896430</td>\n",
       "      <td>214543269</td>\n",
       "      <td>8115</td>\n",
       "      <td>0</td>\n",
       "      <td>34</td>\n",
       "      <td>3</td>\n",
       "      <td>1</td>\n",
       "      <td>21250.0</td>\n",
       "      <td>True</td>\n",
       "    </tr>\n",
       "    <tr>\n",
       "      <th>9883837</th>\n",
       "      <td>1896430</td>\n",
       "      <td>214543269</td>\n",
       "      <td>8116</td>\n",
       "      <td>0</td>\n",
       "      <td>34</td>\n",
       "      <td>2</td>\n",
       "      <td>1</td>\n",
       "      <td>21250.0</td>\n",
       "      <td>True</td>\n",
       "    </tr>\n",
       "    <tr>\n",
       "      <th>9883838</th>\n",
       "      <td>1896430</td>\n",
       "      <td>214543269</td>\n",
       "      <td>8117</td>\n",
       "      <td>0</td>\n",
       "      <td>34</td>\n",
       "      <td>2</td>\n",
       "      <td>1</td>\n",
       "      <td>21250.0</td>\n",
       "      <td>True</td>\n",
       "    </tr>\n",
       "    <tr>\n",
       "      <th>9883850</th>\n",
       "      <td>23891589</td>\n",
       "      <td>214543269</td>\n",
       "      <td>5822</td>\n",
       "      <td>0</td>\n",
       "      <td>40</td>\n",
       "      <td>0</td>\n",
       "      <td>1</td>\n",
       "      <td>8000.0</td>\n",
       "      <td>True</td>\n",
       "    </tr>\n",
       "  </tbody>\n",
       "</table>\n",
       "<p>67293 rows × 9 columns</p>\n",
       "</div>"
      ],
      "text/plain": [
       "         timestamp    user_id  content_id  content_type_id  task_container_id  \\\n",
       "row_id                                                                          \n",
       "0                0        115        5692                0                  1   \n",
       "1            56943        115        5716                0                  2   \n",
       "2           118363        115         128                0                  0   \n",
       "3           131167        115        7860                0                  3   \n",
       "4           137965        115        7922                0                  4   \n",
       "...            ...        ...         ...              ...                ...   \n",
       "9883835    1896430  214543269        8114                0                 34   \n",
       "9883836    1896430  214543269        8115                0                 34   \n",
       "9883837    1896430  214543269        8116                0                 34   \n",
       "9883838    1896430  214543269        8117                0                 34   \n",
       "9883850   23891589  214543269        5822                0                 40   \n",
       "\n",
       "         user_answer  answered_correctly  prior_question_elapsed_time  \\\n",
       "row_id                                                                  \n",
       "0                  3                   1                          NaN   \n",
       "1                  2                   1                      37000.0   \n",
       "2                  0                   1                      55000.0   \n",
       "3                  0                   1                      19000.0   \n",
       "4                  1                   1                      11000.0   \n",
       "...              ...                 ...                          ...   \n",
       "9883835            0                   1                      21250.0   \n",
       "9883836            3                   1                      21250.0   \n",
       "9883837            2                   1                      21250.0   \n",
       "9883838            2                   1                      21250.0   \n",
       "9883850            0                   1                       8000.0   \n",
       "\n",
       "         prior_question_had_explanation  \n",
       "row_id                                   \n",
       "0                                  <NA>  \n",
       "1                                 False  \n",
       "2                                 False  \n",
       "3                                 False  \n",
       "4                                 False  \n",
       "...                                 ...  \n",
       "9883835                            True  \n",
       "9883836                            True  \n",
       "9883837                            True  \n",
       "9883838                            True  \n",
       "9883850                            True  \n",
       "\n",
       "[67293 rows x 9 columns]"
      ]
     },
     "execution_count": 13,
     "metadata": {},
     "output_type": "execute_result"
    }
   ],
   "source": [
    "grouped_by_content_df.head()"
   ]
  },
  {
   "cell_type": "code",
   "execution_count": 14,
   "metadata": {
    "execution": {
     "iopub.execute_input": "2020-11-26T05:58:38.806582Z",
     "iopub.status.busy": "2020-11-26T05:58:38.805892Z",
     "iopub.status.idle": "2020-11-26T05:58:39.089974Z",
     "shell.execute_reply": "2020-11-26T05:58:39.089427Z"
    },
    "papermill": {
     "duration": 0.324053,
     "end_time": "2020-11-26T05:58:39.090092",
     "exception": false,
     "start_time": "2020-11-26T05:58:38.766039",
     "status": "completed"
    },
    "tags": []
   },
   "outputs": [
    {
     "data": {
      "text/plain": [
       "<matplotlib.axes._subplots.AxesSubplot at 0x7f8fc4b554d0>"
      ]
     },
     "execution_count": 14,
     "metadata": {},
     "output_type": "execute_result"
    },
    {
     "data": {
      "image/png": "[encoded data removed]",
      "text/plain": [
       "<Figure size 432x288 with 1 Axes>"
      ]
     },
     "metadata": {
      "needs_background": "light"
     },
     "output_type": "display_data"
    }
   ],
   "source": [
    "content_answers_df[('answered_correctly','count')].hist(bins=100)"
   ]
  },
  {
   "cell_type": "code",
   "execution_count": 15,
   "metadata": {
    "execution": {
     "iopub.execute_input": "2020-11-26T05:58:39.162259Z",
     "iopub.status.busy": "2020-11-26T05:58:39.161605Z",
     "iopub.status.idle": "2020-11-26T05:58:39.479025Z",
     "shell.execute_reply": "2020-11-26T05:58:39.478307Z"
    },
    "papermill": {
     "duration": 0.358621,
     "end_time": "2020-11-26T05:58:39.479144",
     "exception": false,
     "start_time": "2020-11-26T05:58:39.120523",
     "status": "completed"
    },
    "tags": []
   },
   "outputs": [
    {
     "data": {
      "text/plain": [
       "<matplotlib.axes._subplots.AxesSubplot at 0x7f8fc49e3850>"
      ]
     },
     "execution_count": 15,
     "metadata": {},
     "output_type": "execute_result"
    },
    {
     "data": {
      "image/png": "[encoded data removed]",
      "text/plain": [
       "<Figure size 432x288 with 1 Axes>"
      ]
     },
     "metadata": {
      "needs_background": "light"
     },
     "output_type": "display_data"
    }
   ],
   "source": [
    "content_answers_df[('answered_correctly','mean')].hist(bins=100)"
   ]
  },
  {
   "cell_type": "code",
   "execution_count": 16,
   "metadata": {
    "execution": {
     "iopub.execute_input": "2020-11-26T05:58:39.553616Z",
     "iopub.status.busy": "2020-11-26T05:58:39.552596Z",
     "iopub.status.idle": "2020-11-26T05:58:39.923785Z",
     "shell.execute_reply": "2020-11-26T05:58:39.923239Z"
    },
    "papermill": {
     "duration": 0.409471,
     "end_time": "2020-11-26T05:58:39.923895",
     "exception": false,
     "start_time": "2020-11-26T05:58:39.514424",
     "status": "completed"
    },
    "tags": []
   },
   "outputs": [
    {
     "data": {
      "text/plain": [
       "<matplotlib.axes._subplots.AxesSubplot at 0x7f8fc40b7ad0>"
      ]
     },
     "execution_count": 16,
     "metadata": {},
     "output_type": "execute_result"
    },
    {
     "data": {
      "image/png": "[encoded data removed]",
      "text/plain": [
       "<Figure size 432x288 with 1 Axes>"
      ]
     },
     "metadata": {
      "needs_background": "light"
     },
     "output_type": "display_data"
    }
   ],
   "source": [
    "content_answers_df[content_answers_df['answered_correctly','count']>50][('answered_correctly','mean')].hist(bins=100)"
   ]
  },
  {
   "cell_type": "markdown",
   "metadata": {
    "papermill": {
     "duration": 0.034559,
     "end_time": "2020-11-26T05:58:39.990985",
     "exception": false,
     "start_time": "2020-11-26T05:58:39.956426",
     "status": "completed"
    },
    "tags": []
   },
   "source": [
    "**Questions csv**"
   ]
  },
  {
   "cell_type": "code",
   "execution_count": 17,
   "metadata": {
    "execution": {
     "iopub.execute_input": "2020-11-26T05:58:40.074270Z",
     "iopub.status.busy": "2020-11-26T05:58:40.073536Z",
     "iopub.status.idle": "2020-11-26T05:58:40.077855Z",
     "shell.execute_reply": "2020-11-26T05:58:40.077320Z"
    },
    "papermill": {
     "duration": 0.054263,
     "end_time": "2020-11-26T05:58:40.077980",
     "exception": false,
     "start_time": "2020-11-26T05:58:40.023717",
     "status": "completed"
    },
    "tags": []
   },
   "outputs": [
    {
     "data": {
      "text/plain": [
       "189"
      ]
     },
     "execution_count": 17,
     "metadata": {},
     "output_type": "execute_result"
    }
   ],
   "source": [
    "unique_tags=set().union(*[y.split() for y in question['tags'].astype(str).values])\n",
    "len(unique_tags)"
   ]
  },
  {
   "cell_type": "code",
   "execution_count": 18,
   "metadata": {
    "execution": {
     "iopub.execute_input": "2020-11-26T05:58:40.157031Z",
     "iopub.status.busy": "2020-11-26T05:58:40.156088Z",
     "iopub.status.idle": "2020-11-26T05:58:40.160181Z",
     "shell.execute_reply": "2020-11-26T05:58:40.160639Z"
    },
    "papermill": {
     "duration": 0.049878,
     "end_time": "2020-11-26T05:58:40.160786",
     "exception": false,
     "start_time": "2020-11-26T05:58:40.110908",
     "status": "completed"
    },
    "tags": []
   },
   "outputs": [
    {
     "data": {
      "text/html": [
       "<div>\n",
       "<style scoped>\n",
       "    .dataframe tbody tr th:only-of-type {\n",
       "        vertical-align: middle;\n",
       "    }\n",
       "\n",
       "    .dataframe tbody tr th {\n",
       "        vertical-align: top;\n",
       "    }\n",
       "\n",
       "    .dataframe thead th {\n",
       "        text-align: right;\n",
       "    }\n",
       "</style>\n",
       "<table border=\"1\" class=\"dataframe\">\n",
       "  <thead>\n",
       "    <tr style=\"text-align: right;\">\n",
       "      <th></th>\n",
       "      <th>question_id</th>\n",
       "      <th>bundle_id</th>\n",
       "      <th>correct_answer</th>\n",
       "      <th>part</th>\n",
       "      <th>tags</th>\n",
       "    </tr>\n",
       "  </thead>\n",
       "  <tbody>\n",
       "    <tr>\n",
       "      <th>0</th>\n",
       "      <td>0</td>\n",
       "      <td>0</td>\n",
       "      <td>0</td>\n",
       "      <td>1</td>\n",
       "      <td>51 131 162 38</td>\n",
       "    </tr>\n",
       "    <tr>\n",
       "      <th>1</th>\n",
       "      <td>1</td>\n",
       "      <td>1</td>\n",
       "      <td>1</td>\n",
       "      <td>1</td>\n",
       "      <td>131 36 81</td>\n",
       "    </tr>\n",
       "    <tr>\n",
       "      <th>2</th>\n",
       "      <td>2</td>\n",
       "      <td>2</td>\n",
       "      <td>0</td>\n",
       "      <td>1</td>\n",
       "      <td>131 101 162 92</td>\n",
       "    </tr>\n",
       "    <tr>\n",
       "      <th>3</th>\n",
       "      <td>3</td>\n",
       "      <td>3</td>\n",
       "      <td>0</td>\n",
       "      <td>1</td>\n",
       "      <td>131 149 162 29</td>\n",
       "    </tr>\n",
       "    <tr>\n",
       "      <th>4</th>\n",
       "      <td>4</td>\n",
       "      <td>4</td>\n",
       "      <td>3</td>\n",
       "      <td>1</td>\n",
       "      <td>131 5 162 38</td>\n",
       "    </tr>\n",
       "    <tr>\n",
       "      <th>...</th>\n",
       "      <td>...</td>\n",
       "      <td>...</td>\n",
       "      <td>...</td>\n",
       "      <td>...</td>\n",
       "      <td>...</td>\n",
       "    </tr>\n",
       "    <tr>\n",
       "      <th>13518</th>\n",
       "      <td>13518</td>\n",
       "      <td>13518</td>\n",
       "      <td>3</td>\n",
       "      <td>5</td>\n",
       "      <td>14</td>\n",
       "    </tr>\n",
       "    <tr>\n",
       "      <th>13519</th>\n",
       "      <td>13519</td>\n",
       "      <td>13519</td>\n",
       "      <td>3</td>\n",
       "      <td>5</td>\n",
       "      <td>8</td>\n",
       "    </tr>\n",
       "    <tr>\n",
       "      <th>13520</th>\n",
       "      <td>13520</td>\n",
       "      <td>13520</td>\n",
       "      <td>2</td>\n",
       "      <td>5</td>\n",
       "      <td>73</td>\n",
       "    </tr>\n",
       "    <tr>\n",
       "      <th>13521</th>\n",
       "      <td>13521</td>\n",
       "      <td>13521</td>\n",
       "      <td>0</td>\n",
       "      <td>5</td>\n",
       "      <td>125</td>\n",
       "    </tr>\n",
       "    <tr>\n",
       "      <th>13522</th>\n",
       "      <td>13522</td>\n",
       "      <td>13522</td>\n",
       "      <td>3</td>\n",
       "      <td>5</td>\n",
       "      <td>55</td>\n",
       "    </tr>\n",
       "  </tbody>\n",
       "</table>\n",
       "<p>13523 rows × 5 columns</p>\n",
       "</div>"
      ],
      "text/plain": [
       "       question_id  bundle_id  correct_answer  part            tags\n",
       "0                0          0               0     1   51 131 162 38\n",
       "1                1          1               1     1       131 36 81\n",
       "2                2          2               0     1  131 101 162 92\n",
       "3                3          3               0     1  131 149 162 29\n",
       "4                4          4               3     1    131 5 162 38\n",
       "...            ...        ...             ...   ...             ...\n",
       "13518        13518      13518               3     5              14\n",
       "13519        13519      13519               3     5               8\n",
       "13520        13520      13520               2     5              73\n",
       "13521        13521      13521               0     5             125\n",
       "13522        13522      13522               3     5              55\n",
       "\n",
       "[13523 rows x 5 columns]"
      ]
     },
     "execution_count": 18,
     "metadata": {},
     "output_type": "execute_result"
    }
   ],
   "source": [
    "question"
   ]
  },
  {
   "cell_type": "code",
   "execution_count": 19,
   "metadata": {
    "execution": {
     "iopub.execute_input": "2020-11-26T05:58:40.233813Z",
     "iopub.status.busy": "2020-11-26T05:58:40.233148Z",
     "iopub.status.idle": "2020-11-26T05:58:40.235983Z",
     "shell.execute_reply": "2020-11-26T05:58:40.235366Z"
    },
    "papermill": {
     "duration": 0.041035,
     "end_time": "2020-11-26T05:58:40.236087",
     "exception": false,
     "start_time": "2020-11-26T05:58:40.195052",
     "status": "completed"
    },
    "tags": []
   },
   "outputs": [],
   "source": [
    "data_types_dict = {\n",
    "    'row_id': 'int64',\n",
    "    'timestamp': 'int64',\n",
    "    'user_id': 'int32',\n",
    "    'content_id': 'int16',\n",
    "    'content_type_id': 'int8',\n",
    "#     'task_container_id': 'int16',\n",
    "#     'user_answer': 'int8',\n",
    "    'answered_correctly': 'int8',\n",
    "    'prior_question_elapsed_time': 'float16',\n",
    "    'prior_question_had_explanation': 'boolean'\n",
    "}"
   ]
  },
  {
   "cell_type": "code",
   "execution_count": 20,
   "metadata": {
    "execution": {
     "iopub.execute_input": "2020-11-26T05:58:40.312947Z",
     "iopub.status.busy": "2020-11-26T05:58:40.312064Z",
     "iopub.status.idle": "2020-11-26T05:58:40.315334Z",
     "shell.execute_reply": "2020-11-26T05:58:40.316008Z"
    },
    "papermill": {
     "duration": 0.046594,
     "end_time": "2020-11-26T05:58:40.316157",
     "exception": false,
     "start_time": "2020-11-26T05:58:40.269563",
     "status": "completed"
    },
    "tags": []
   },
   "outputs": [
    {
     "name": "stdout",
     "output_type": "stream",
     "text": [
      "(9000000, 9)\n",
      "(1000000, 9)\n"
     ]
    }
   ],
   "source": [
    "features = train.iloc[:int(9 /10 * len(train))]\n",
    "train = train.iloc[int(9 /10 * len(train)):]\n",
    "print(features.shape)\n",
    "print(train.shape)"
   ]
  },
  {
   "cell_type": "markdown",
   "metadata": {
    "papermill": {
     "duration": 0.034048,
     "end_time": "2020-11-26T05:58:40.384250",
     "exception": false,
     "start_time": "2020-11-26T05:58:40.350202",
     "status": "completed"
    },
    "tags": []
   },
   "source": [
    "Grouped by questions answered and answered results"
   ]
  },
  {
   "cell_type": "code",
   "execution_count": 21,
   "metadata": {
    "execution": {
     "iopub.execute_input": "2020-11-26T05:58:40.460834Z",
     "iopub.status.busy": "2020-11-26T05:58:40.459648Z",
     "iopub.status.idle": "2020-11-26T05:58:41.883229Z",
     "shell.execute_reply": "2020-11-26T05:58:41.882653Z"
    },
    "papermill": {
     "duration": 1.464381,
     "end_time": "2020-11-26T05:58:41.883345",
     "exception": false,
     "start_time": "2020-11-26T05:58:40.418964",
     "status": "completed"
    },
    "tags": []
   },
   "outputs": [],
   "source": [
    "train_q=features[features.answered_correctly!=-1]\n",
    "grouped_by_user=train_q.groupby('user_id')\n",
    "user_answers_df=grouped_by_user.agg({'answered_correctly':['mean','count']}).copy()\n",
    "user_answers_df.columns=['mean_user_accuracy','questions_answered']"
   ]
  },
  {
   "cell_type": "code",
   "execution_count": 22,
   "metadata": {
    "execution": {
     "iopub.execute_input": "2020-11-26T05:58:41.958941Z",
     "iopub.status.busy": "2020-11-26T05:58:41.958237Z",
     "iopub.status.idle": "2020-11-26T05:58:42.976046Z",
     "shell.execute_reply": "2020-11-26T05:58:42.975356Z"
    },
    "papermill": {
     "duration": 1.05808,
     "end_time": "2020-11-26T05:58:42.976163",
     "exception": false,
     "start_time": "2020-11-26T05:58:41.918083",
     "status": "completed"
    },
    "tags": []
   },
   "outputs": [],
   "source": [
    "grouped_by_content=features.groupby('content_id')\n",
    "content_answers_df=grouped_by_content.agg({'answered_correctly':['mean','count']}).copy()\n",
    "content_answers_df.columns=['mean_accuracy','question_Asked']"
   ]
  },
  {
   "cell_type": "code",
   "execution_count": 23,
   "metadata": {
    "execution": {
     "iopub.execute_input": "2020-11-26T05:58:43.052630Z",
     "iopub.status.busy": "2020-11-26T05:58:43.051873Z",
     "iopub.status.idle": "2020-11-26T05:58:43.069186Z",
     "shell.execute_reply": "2020-11-26T05:58:43.068570Z"
    },
    "papermill": {
     "duration": 0.058101,
     "end_time": "2020-11-26T05:58:43.069297",
     "exception": false,
     "start_time": "2020-11-26T05:58:43.011196",
     "status": "completed"
    },
    "tags": []
   },
   "outputs": [],
   "source": [
    "question=question.merge(content_answers_df,left_on='question_id',right_on='content_id',how='left')\n",
    "bundle_dict = question['bundle_id'].value_counts().to_dict()"
   ]
  },
  {
   "cell_type": "code",
   "execution_count": 24,
   "metadata": {
    "execution": {
     "iopub.execute_input": "2020-11-26T05:58:43.154239Z",
     "iopub.status.busy": "2020-11-26T05:58:43.153579Z",
     "iopub.status.idle": "2020-11-26T05:58:43.156639Z",
     "shell.execute_reply": "2020-11-26T05:58:43.156136Z"
    },
    "papermill": {
     "duration": 0.052781,
     "end_time": "2020-11-26T05:58:43.156754",
     "exception": false,
     "start_time": "2020-11-26T05:58:43.103973",
     "status": "completed"
    },
    "tags": []
   },
   "outputs": [],
   "source": [
    "question['right_answers'] = question['mean_accuracy'] * question['question_Asked']\n",
    "question['bundle_size'] =question['bundle_id'].apply(lambda x: bundle_dict[x])"
   ]
  },
  {
   "cell_type": "code",
   "execution_count": 25,
   "metadata": {
    "execution": {
     "iopub.execute_input": "2020-11-26T05:58:43.239092Z",
     "iopub.status.busy": "2020-11-26T05:58:43.238351Z",
     "iopub.status.idle": "2020-11-26T05:58:43.250218Z",
     "shell.execute_reply": "2020-11-26T05:58:43.249587Z"
    },
    "papermill": {
     "duration": 0.0591,
     "end_time": "2020-11-26T05:58:43.250329",
     "exception": false,
     "start_time": "2020-11-26T05:58:43.191229",
     "status": "completed"
    },
    "tags": []
   },
   "outputs": [
    {
     "data": {
      "text/html": [
       "<div>\n",
       "<style scoped>\n",
       "    .dataframe tbody tr th:only-of-type {\n",
       "        vertical-align: middle;\n",
       "    }\n",
       "\n",
       "    .dataframe tbody tr th {\n",
       "        vertical-align: top;\n",
       "    }\n",
       "\n",
       "    .dataframe thead th {\n",
       "        text-align: right;\n",
       "    }\n",
       "</style>\n",
       "<table border=\"1\" class=\"dataframe\">\n",
       "  <thead>\n",
       "    <tr style=\"text-align: right;\">\n",
       "      <th></th>\n",
       "      <th>question_id</th>\n",
       "      <th>bundle_id</th>\n",
       "      <th>correct_answer</th>\n",
       "      <th>part</th>\n",
       "      <th>tags</th>\n",
       "      <th>mean_accuracy</th>\n",
       "      <th>question_Asked</th>\n",
       "      <th>right_answers</th>\n",
       "      <th>bundle_size</th>\n",
       "    </tr>\n",
       "  </thead>\n",
       "  <tbody>\n",
       "    <tr>\n",
       "      <th>0</th>\n",
       "      <td>0</td>\n",
       "      <td>0</td>\n",
       "      <td>0</td>\n",
       "      <td>1</td>\n",
       "      <td>51 131 162 38</td>\n",
       "      <td>0.901274</td>\n",
       "      <td>628.0</td>\n",
       "      <td>566.0</td>\n",
       "      <td>1</td>\n",
       "    </tr>\n",
       "    <tr>\n",
       "      <th>1</th>\n",
       "      <td>1</td>\n",
       "      <td>1</td>\n",
       "      <td>1</td>\n",
       "      <td>1</td>\n",
       "      <td>131 36 81</td>\n",
       "      <td>0.889571</td>\n",
       "      <td>652.0</td>\n",
       "      <td>580.0</td>\n",
       "      <td>1</td>\n",
       "    </tr>\n",
       "    <tr>\n",
       "      <th>2</th>\n",
       "      <td>2</td>\n",
       "      <td>2</td>\n",
       "      <td>0</td>\n",
       "      <td>1</td>\n",
       "      <td>131 101 162 92</td>\n",
       "      <td>0.558317</td>\n",
       "      <td>4064.0</td>\n",
       "      <td>2269.0</td>\n",
       "      <td>1</td>\n",
       "    </tr>\n",
       "    <tr>\n",
       "      <th>3</th>\n",
       "      <td>3</td>\n",
       "      <td>3</td>\n",
       "      <td>0</td>\n",
       "      <td>1</td>\n",
       "      <td>131 149 162 29</td>\n",
       "      <td>0.779570</td>\n",
       "      <td>2046.0</td>\n",
       "      <td>1595.0</td>\n",
       "      <td>1</td>\n",
       "    </tr>\n",
       "    <tr>\n",
       "      <th>4</th>\n",
       "      <td>4</td>\n",
       "      <td>4</td>\n",
       "      <td>3</td>\n",
       "      <td>1</td>\n",
       "      <td>131 5 162 38</td>\n",
       "      <td>0.627244</td>\n",
       "      <td>2841.0</td>\n",
       "      <td>1782.0</td>\n",
       "      <td>1</td>\n",
       "    </tr>\n",
       "    <tr>\n",
       "      <th>...</th>\n",
       "      <td>...</td>\n",
       "      <td>...</td>\n",
       "      <td>...</td>\n",
       "      <td>...</td>\n",
       "      <td>...</td>\n",
       "      <td>...</td>\n",
       "      <td>...</td>\n",
       "      <td>...</td>\n",
       "      <td>...</td>\n",
       "    </tr>\n",
       "    <tr>\n",
       "      <th>13518</th>\n",
       "      <td>13518</td>\n",
       "      <td>13518</td>\n",
       "      <td>3</td>\n",
       "      <td>5</td>\n",
       "      <td>14</td>\n",
       "      <td>0.782051</td>\n",
       "      <td>78.0</td>\n",
       "      <td>61.0</td>\n",
       "      <td>1</td>\n",
       "    </tr>\n",
       "    <tr>\n",
       "      <th>13519</th>\n",
       "      <td>13519</td>\n",
       "      <td>13519</td>\n",
       "      <td>3</td>\n",
       "      <td>5</td>\n",
       "      <td>8</td>\n",
       "      <td>0.569620</td>\n",
       "      <td>79.0</td>\n",
       "      <td>45.0</td>\n",
       "      <td>1</td>\n",
       "    </tr>\n",
       "    <tr>\n",
       "      <th>13520</th>\n",
       "      <td>13520</td>\n",
       "      <td>13520</td>\n",
       "      <td>2</td>\n",
       "      <td>5</td>\n",
       "      <td>73</td>\n",
       "      <td>0.702703</td>\n",
       "      <td>74.0</td>\n",
       "      <td>52.0</td>\n",
       "      <td>1</td>\n",
       "    </tr>\n",
       "    <tr>\n",
       "      <th>13521</th>\n",
       "      <td>13521</td>\n",
       "      <td>13521</td>\n",
       "      <td>0</td>\n",
       "      <td>5</td>\n",
       "      <td>125</td>\n",
       "      <td>0.782051</td>\n",
       "      <td>78.0</td>\n",
       "      <td>61.0</td>\n",
       "      <td>1</td>\n",
       "    </tr>\n",
       "    <tr>\n",
       "      <th>13522</th>\n",
       "      <td>13522</td>\n",
       "      <td>13522</td>\n",
       "      <td>3</td>\n",
       "      <td>5</td>\n",
       "      <td>55</td>\n",
       "      <td>0.907895</td>\n",
       "      <td>76.0</td>\n",
       "      <td>69.0</td>\n",
       "      <td>1</td>\n",
       "    </tr>\n",
       "  </tbody>\n",
       "</table>\n",
       "<p>13523 rows × 9 columns</p>\n",
       "</div>"
      ],
      "text/plain": [
       "       question_id  bundle_id  correct_answer  part            tags  \\\n",
       "0                0          0               0     1   51 131 162 38   \n",
       "1                1          1               1     1       131 36 81   \n",
       "2                2          2               0     1  131 101 162 92   \n",
       "3                3          3               0     1  131 149 162 29   \n",
       "4                4          4               3     1    131 5 162 38   \n",
       "...            ...        ...             ...   ...             ...   \n",
       "13518        13518      13518               3     5              14   \n",
       "13519        13519      13519               3     5               8   \n",
       "13520        13520      13520               2     5              73   \n",
       "13521        13521      13521               0     5             125   \n",
       "13522        13522      13522               3     5              55   \n",
       "\n",
       "       mean_accuracy  question_Asked  right_answers  bundle_size  \n",
       "0           0.901274           628.0          566.0            1  \n",
       "1           0.889571           652.0          580.0            1  \n",
       "2           0.558317          4064.0         2269.0            1  \n",
       "3           0.779570          2046.0         1595.0            1  \n",
       "4           0.627244          2841.0         1782.0            1  \n",
       "...              ...             ...            ...          ...  \n",
       "13518       0.782051            78.0           61.0            1  \n",
       "13519       0.569620            79.0           45.0            1  \n",
       "13520       0.702703            74.0           52.0            1  \n",
       "13521       0.782051            78.0           61.0            1  \n",
       "13522       0.907895            76.0           69.0            1  \n",
       "\n",
       "[13523 rows x 9 columns]"
      ]
     },
     "execution_count": 25,
     "metadata": {},
     "output_type": "execute_result"
    }
   ],
   "source": [
    "question"
   ]
  },
  {
   "cell_type": "code",
   "execution_count": 26,
   "metadata": {
    "execution": {
     "iopub.execute_input": "2020-11-26T05:58:43.330450Z",
     "iopub.status.busy": "2020-11-26T05:58:43.329767Z",
     "iopub.status.idle": "2020-11-26T05:58:43.346821Z",
     "shell.execute_reply": "2020-11-26T05:58:43.347253Z"
    },
    "papermill": {
     "duration": 0.060705,
     "end_time": "2020-11-26T05:58:43.347399",
     "exception": false,
     "start_time": "2020-11-26T05:58:43.286694",
     "status": "completed"
    },
    "tags": []
   },
   "outputs": [
    {
     "data": {
      "text/html": [
       "<div>\n",
       "<style scoped>\n",
       "    .dataframe tbody tr th:only-of-type {\n",
       "        vertical-align: middle;\n",
       "    }\n",
       "\n",
       "    .dataframe tbody tr th {\n",
       "        vertical-align: top;\n",
       "    }\n",
       "\n",
       "    .dataframe thead th {\n",
       "        text-align: right;\n",
       "    }\n",
       "</style>\n",
       "<table border=\"1\" class=\"dataframe\">\n",
       "  <thead>\n",
       "    <tr style=\"text-align: right;\">\n",
       "      <th></th>\n",
       "      <th>bundle_rignt_answers</th>\n",
       "      <th>bundle_questions_asked</th>\n",
       "      <th>bundle_accuracy</th>\n",
       "    </tr>\n",
       "    <tr>\n",
       "      <th>bundle_id</th>\n",
       "      <th></th>\n",
       "      <th></th>\n",
       "      <th></th>\n",
       "    </tr>\n",
       "  </thead>\n",
       "  <tbody>\n",
       "    <tr>\n",
       "      <th>0</th>\n",
       "      <td>566.0</td>\n",
       "      <td>628.0</td>\n",
       "      <td>0.901274</td>\n",
       "    </tr>\n",
       "    <tr>\n",
       "      <th>1</th>\n",
       "      <td>580.0</td>\n",
       "      <td>652.0</td>\n",
       "      <td>0.889571</td>\n",
       "    </tr>\n",
       "    <tr>\n",
       "      <th>2</th>\n",
       "      <td>2269.0</td>\n",
       "      <td>4064.0</td>\n",
       "      <td>0.558317</td>\n",
       "    </tr>\n",
       "    <tr>\n",
       "      <th>3</th>\n",
       "      <td>1595.0</td>\n",
       "      <td>2046.0</td>\n",
       "      <td>0.779570</td>\n",
       "    </tr>\n",
       "    <tr>\n",
       "      <th>4</th>\n",
       "      <td>1782.0</td>\n",
       "      <td>2841.0</td>\n",
       "      <td>0.627244</td>\n",
       "    </tr>\n",
       "    <tr>\n",
       "      <th>...</th>\n",
       "      <td>...</td>\n",
       "      <td>...</td>\n",
       "      <td>...</td>\n",
       "    </tr>\n",
       "    <tr>\n",
       "      <th>13518</th>\n",
       "      <td>61.0</td>\n",
       "      <td>78.0</td>\n",
       "      <td>0.782051</td>\n",
       "    </tr>\n",
       "    <tr>\n",
       "      <th>13519</th>\n",
       "      <td>45.0</td>\n",
       "      <td>79.0</td>\n",
       "      <td>0.569620</td>\n",
       "    </tr>\n",
       "    <tr>\n",
       "      <th>13520</th>\n",
       "      <td>52.0</td>\n",
       "      <td>74.0</td>\n",
       "      <td>0.702703</td>\n",
       "    </tr>\n",
       "    <tr>\n",
       "      <th>13521</th>\n",
       "      <td>61.0</td>\n",
       "      <td>78.0</td>\n",
       "      <td>0.782051</td>\n",
       "    </tr>\n",
       "    <tr>\n",
       "      <th>13522</th>\n",
       "      <td>69.0</td>\n",
       "      <td>76.0</td>\n",
       "      <td>0.907895</td>\n",
       "    </tr>\n",
       "  </tbody>\n",
       "</table>\n",
       "<p>9765 rows × 3 columns</p>\n",
       "</div>"
      ],
      "text/plain": [
       "           bundle_rignt_answers  bundle_questions_asked  bundle_accuracy\n",
       "bundle_id                                                               \n",
       "0                         566.0                   628.0         0.901274\n",
       "1                         580.0                   652.0         0.889571\n",
       "2                        2269.0                  4064.0         0.558317\n",
       "3                        1595.0                  2046.0         0.779570\n",
       "4                        1782.0                  2841.0         0.627244\n",
       "...                         ...                     ...              ...\n",
       "13518                      61.0                    78.0         0.782051\n",
       "13519                      45.0                    79.0         0.569620\n",
       "13520                      52.0                    74.0         0.702703\n",
       "13521                      61.0                    78.0         0.782051\n",
       "13522                      69.0                    76.0         0.907895\n",
       "\n",
       "[9765 rows x 3 columns]"
      ]
     },
     "execution_count": 26,
     "metadata": {},
     "output_type": "execute_result"
    }
   ],
   "source": [
    "grouped_by_bundle_df = question.groupby('bundle_id')\n",
    "bundle_answers_df = grouped_by_bundle_df.agg({'right_answers': 'sum', 'question_Asked': 'sum'}).copy()\n",
    "bundle_answers_df.columns = ['bundle_rignt_answers', 'bundle_questions_asked']\n",
    "bundle_answers_df['bundle_accuracy'] = bundle_answers_df['bundle_rignt_answers'] / bundle_answers_df['bundle_questions_asked']\n",
    "bundle_answers_df"
   ]
  },
  {
   "cell_type": "code",
   "execution_count": 27,
   "metadata": {
    "execution": {
     "iopub.execute_input": "2020-11-26T05:58:43.426539Z",
     "iopub.status.busy": "2020-11-26T05:58:43.425867Z",
     "iopub.status.idle": "2020-11-26T05:58:43.439773Z",
     "shell.execute_reply": "2020-11-26T05:58:43.439124Z"
    },
    "papermill": {
     "duration": 0.056684,
     "end_time": "2020-11-26T05:58:43.439889",
     "exception": false,
     "start_time": "2020-11-26T05:58:43.383205",
     "status": "completed"
    },
    "tags": []
   },
   "outputs": [
    {
     "data": {
      "text/html": [
       "<div>\n",
       "<style scoped>\n",
       "    .dataframe tbody tr th:only-of-type {\n",
       "        vertical-align: middle;\n",
       "    }\n",
       "\n",
       "    .dataframe tbody tr th {\n",
       "        vertical-align: top;\n",
       "    }\n",
       "\n",
       "    .dataframe thead th {\n",
       "        text-align: right;\n",
       "    }\n",
       "</style>\n",
       "<table border=\"1\" class=\"dataframe\">\n",
       "  <thead>\n",
       "    <tr style=\"text-align: right;\">\n",
       "      <th></th>\n",
       "      <th>part_rignt_answers</th>\n",
       "      <th>part_questions_asked</th>\n",
       "      <th>part_accuracy</th>\n",
       "    </tr>\n",
       "    <tr>\n",
       "      <th>part</th>\n",
       "      <th></th>\n",
       "      <th></th>\n",
       "      <th></th>\n",
       "    </tr>\n",
       "  </thead>\n",
       "  <tbody>\n",
       "    <tr>\n",
       "      <th>1</th>\n",
       "      <td>485831.0</td>\n",
       "      <td>673373.0</td>\n",
       "      <td>0.721489</td>\n",
       "    </tr>\n",
       "    <tr>\n",
       "      <th>2</th>\n",
       "      <td>1182262.0</td>\n",
       "      <td>1683068.0</td>\n",
       "      <td>0.702445</td>\n",
       "    </tr>\n",
       "    <tr>\n",
       "      <th>3</th>\n",
       "      <td>528803.0</td>\n",
       "      <td>769557.0</td>\n",
       "      <td>0.687152</td>\n",
       "    </tr>\n",
       "    <tr>\n",
       "      <th>4</th>\n",
       "      <td>440294.0</td>\n",
       "      <td>721274.0</td>\n",
       "      <td>0.610439</td>\n",
       "    </tr>\n",
       "    <tr>\n",
       "      <th>5</th>\n",
       "      <td>2174256.0</td>\n",
       "      <td>3637407.0</td>\n",
       "      <td>0.597749</td>\n",
       "    </tr>\n",
       "    <tr>\n",
       "      <th>6</th>\n",
       "      <td>622828.0</td>\n",
       "      <td>952863.0</td>\n",
       "      <td>0.653639</td>\n",
       "    </tr>\n",
       "    <tr>\n",
       "      <th>7</th>\n",
       "      <td>298042.0</td>\n",
       "      <td>455101.0</td>\n",
       "      <td>0.654892</td>\n",
       "    </tr>\n",
       "  </tbody>\n",
       "</table>\n",
       "</div>"
      ],
      "text/plain": [
       "      part_rignt_answers  part_questions_asked  part_accuracy\n",
       "part                                                         \n",
       "1               485831.0              673373.0       0.721489\n",
       "2              1182262.0             1683068.0       0.702445\n",
       "3               528803.0              769557.0       0.687152\n",
       "4               440294.0              721274.0       0.610439\n",
       "5              2174256.0             3637407.0       0.597749\n",
       "6               622828.0              952863.0       0.653639\n",
       "7               298042.0              455101.0       0.654892"
      ]
     },
     "execution_count": 27,
     "metadata": {},
     "output_type": "execute_result"
    }
   ],
   "source": [
    "grouped_by_part_df = question.groupby('part')\n",
    "part_answers_df = grouped_by_part_df.agg({'right_answers': 'sum', 'question_Asked': 'sum'}).copy()\n",
    "part_answers_df.columns = ['part_rignt_answers', 'part_questions_asked']\n",
    "part_answers_df['part_accuracy'] = part_answers_df['part_rignt_answers'] / part_answers_df['part_questions_asked']\n",
    "part_answers_df"
   ]
  },
  {
   "cell_type": "code",
   "execution_count": 28,
   "metadata": {
    "execution": {
     "iopub.execute_input": "2020-11-26T05:58:43.604281Z",
     "iopub.status.busy": "2020-11-26T05:58:43.603397Z",
     "iopub.status.idle": "2020-11-26T05:58:43.607766Z",
     "shell.execute_reply": "2020-11-26T05:58:43.607164Z"
    },
    "papermill": {
     "duration": 0.130808,
     "end_time": "2020-11-26T05:58:43.607888",
     "exception": false,
     "start_time": "2020-11-26T05:58:43.477080",
     "status": "completed"
    },
    "tags": []
   },
   "outputs": [
    {
     "data": {
      "text/plain": [
       "60"
      ]
     },
     "execution_count": 28,
     "metadata": {},
     "output_type": "execute_result"
    }
   ],
   "source": [
    "import gc\n",
    "gc.collect()"
   ]
  },
  {
   "cell_type": "code",
   "execution_count": 29,
   "metadata": {
    "execution": {
     "iopub.execute_input": "2020-11-26T05:58:43.686907Z",
     "iopub.status.busy": "2020-11-26T05:58:43.686245Z",
     "iopub.status.idle": "2020-11-26T05:58:43.689129Z",
     "shell.execute_reply": "2020-11-26T05:58:43.688514Z"
    },
    "papermill": {
     "duration": 0.044401,
     "end_time": "2020-11-26T05:58:43.689236",
     "exception": false,
     "start_time": "2020-11-26T05:58:43.644835",
     "status": "completed"
    },
    "tags": []
   },
   "outputs": [],
   "source": [
    "features = ['timestamp','mean_user_accuracy', 'questions_answered','mean_accuracy', 'question_Asked',\n",
    "            'prior_question_elapsed_time', 'prior_question_had_explanation',\n",
    "           'bundle_size', 'bundle_accuracy','part_accuracy', 'right_answers']\n",
    "target = 'answered_correctly'"
   ]
  },
  {
   "cell_type": "code",
   "execution_count": 30,
   "metadata": {
    "execution": {
     "iopub.execute_input": "2020-11-26T05:58:43.771351Z",
     "iopub.status.busy": "2020-11-26T05:58:43.770658Z",
     "iopub.status.idle": "2020-11-26T05:58:44.701098Z",
     "shell.execute_reply": "2020-11-26T05:58:44.699507Z"
    },
    "papermill": {
     "duration": 0.974506,
     "end_time": "2020-11-26T05:58:44.701311",
     "exception": false,
     "start_time": "2020-11-26T05:58:43.726805",
     "status": "completed"
    },
    "tags": []
   },
   "outputs": [],
   "source": [
    "train_part_df = train[train[target] != -1]\n",
    "train_part_df = train_part_df.merge(user_answers_df, how = 'left', on = 'user_id')\n",
    "train_part_df = train_part_df.merge(question, how = 'left', left_on = 'content_id', right_on = 'question_id')\n",
    "train_part_df = train_part_df.merge(bundle_answers_df, how = 'left', on = 'bundle_id')\n",
    "train_part_df = train_part_df.merge(part_answers_df, how = 'left', on = 'part')\n"
   ]
  },
  {
   "cell_type": "code",
   "execution_count": 31,
   "metadata": {
    "execution": {
     "iopub.execute_input": "2020-11-26T05:58:44.849771Z",
     "iopub.status.busy": "2020-11-26T05:58:44.798829Z",
     "iopub.status.idle": "2020-11-26T05:58:45.127428Z",
     "shell.execute_reply": "2020-11-26T05:58:45.126791Z"
    },
    "papermill": {
     "duration": 0.37882,
     "end_time": "2020-11-26T05:58:45.127569",
     "exception": false,
     "start_time": "2020-11-26T05:58:44.748749",
     "status": "completed"
    },
    "tags": []
   },
   "outputs": [
    {
     "data": {
      "text/html": [
       "<div>\n",
       "<style scoped>\n",
       "    .dataframe tbody tr th:only-of-type {\n",
       "        vertical-align: middle;\n",
       "    }\n",
       "\n",
       "    .dataframe tbody tr th {\n",
       "        vertical-align: top;\n",
       "    }\n",
       "\n",
       "    .dataframe thead th {\n",
       "        text-align: right;\n",
       "    }\n",
       "</style>\n",
       "<table border=\"1\" class=\"dataframe\">\n",
       "  <thead>\n",
       "    <tr style=\"text-align: right;\">\n",
       "      <th></th>\n",
       "      <th>timestamp</th>\n",
       "      <th>user_id</th>\n",
       "      <th>content_id</th>\n",
       "      <th>content_type_id</th>\n",
       "      <th>task_container_id</th>\n",
       "      <th>user_answer</th>\n",
       "      <th>answered_correctly</th>\n",
       "      <th>prior_question_elapsed_time</th>\n",
       "      <th>prior_question_had_explanation</th>\n",
       "      <th>mean_user_accuracy</th>\n",
       "      <th>...</th>\n",
       "      <th>mean_accuracy</th>\n",
       "      <th>question_Asked</th>\n",
       "      <th>right_answers</th>\n",
       "      <th>bundle_size</th>\n",
       "      <th>bundle_rignt_answers</th>\n",
       "      <th>bundle_questions_asked</th>\n",
       "      <th>bundle_accuracy</th>\n",
       "      <th>part_rignt_answers</th>\n",
       "      <th>part_questions_asked</th>\n",
       "      <th>part_accuracy</th>\n",
       "    </tr>\n",
       "  </thead>\n",
       "  <tbody>\n",
       "    <tr>\n",
       "      <th>0</th>\n",
       "      <td>9871729962</td>\n",
       "      <td>196122333</td>\n",
       "      <td>3992</td>\n",
       "      <td>0</td>\n",
       "      <td>242</td>\n",
       "      <td>0</td>\n",
       "      <td>1</td>\n",
       "      <td>19000.0</td>\n",
       "      <td>True</td>\n",
       "      <td>0.611722</td>\n",
       "      <td>...</td>\n",
       "      <td>0.867188</td>\n",
       "      <td>384.0</td>\n",
       "      <td>333.0</td>\n",
       "      <td>1</td>\n",
       "      <td>333.0</td>\n",
       "      <td>384.0</td>\n",
       "      <td>0.867188</td>\n",
       "      <td>2174256.0</td>\n",
       "      <td>3637407.0</td>\n",
       "      <td>0.597749</td>\n",
       "    </tr>\n",
       "    <tr>\n",
       "      <th>1</th>\n",
       "      <td>9871801320</td>\n",
       "      <td>196122333</td>\n",
       "      <td>9510</td>\n",
       "      <td>0</td>\n",
       "      <td>243</td>\n",
       "      <td>3</td>\n",
       "      <td>0</td>\n",
       "      <td>15000.0</td>\n",
       "      <td>True</td>\n",
       "      <td>0.611722</td>\n",
       "      <td>...</td>\n",
       "      <td>0.533800</td>\n",
       "      <td>429.0</td>\n",
       "      <td>229.0</td>\n",
       "      <td>1</td>\n",
       "      <td>229.0</td>\n",
       "      <td>429.0</td>\n",
       "      <td>0.533800</td>\n",
       "      <td>2174256.0</td>\n",
       "      <td>3637407.0</td>\n",
       "      <td>0.597749</td>\n",
       "    </tr>\n",
       "    <tr>\n",
       "      <th>2</th>\n",
       "      <td>9871852731</td>\n",
       "      <td>196122333</td>\n",
       "      <td>5214</td>\n",
       "      <td>0</td>\n",
       "      <td>244</td>\n",
       "      <td>3</td>\n",
       "      <td>1</td>\n",
       "      <td>13000.0</td>\n",
       "      <td>True</td>\n",
       "      <td>0.611722</td>\n",
       "      <td>...</td>\n",
       "      <td>0.715385</td>\n",
       "      <td>1040.0</td>\n",
       "      <td>744.0</td>\n",
       "      <td>1</td>\n",
       "      <td>744.0</td>\n",
       "      <td>1040.0</td>\n",
       "      <td>0.715385</td>\n",
       "      <td>2174256.0</td>\n",
       "      <td>3637407.0</td>\n",
       "      <td>0.597749</td>\n",
       "    </tr>\n",
       "    <tr>\n",
       "      <th>3</th>\n",
       "      <td>9872436636</td>\n",
       "      <td>196122333</td>\n",
       "      <td>5334</td>\n",
       "      <td>0</td>\n",
       "      <td>245</td>\n",
       "      <td>0</td>\n",
       "      <td>0</td>\n",
       "      <td>16000.0</td>\n",
       "      <td>True</td>\n",
       "      <td>0.611722</td>\n",
       "      <td>...</td>\n",
       "      <td>0.674593</td>\n",
       "      <td>2271.0</td>\n",
       "      <td>1532.0</td>\n",
       "      <td>1</td>\n",
       "      <td>1532.0</td>\n",
       "      <td>2271.0</td>\n",
       "      <td>0.674593</td>\n",
       "      <td>2174256.0</td>\n",
       "      <td>3637407.0</td>\n",
       "      <td>0.597749</td>\n",
       "    </tr>\n",
       "    <tr>\n",
       "      <th>4</th>\n",
       "      <td>9872617214</td>\n",
       "      <td>196122333</td>\n",
       "      <td>3722</td>\n",
       "      <td>0</td>\n",
       "      <td>246</td>\n",
       "      <td>2</td>\n",
       "      <td>1</td>\n",
       "      <td>16000.0</td>\n",
       "      <td>True</td>\n",
       "      <td>0.611722</td>\n",
       "      <td>...</td>\n",
       "      <td>0.719101</td>\n",
       "      <td>890.0</td>\n",
       "      <td>640.0</td>\n",
       "      <td>1</td>\n",
       "      <td>640.0</td>\n",
       "      <td>890.0</td>\n",
       "      <td>0.719101</td>\n",
       "      <td>2174256.0</td>\n",
       "      <td>3637407.0</td>\n",
       "      <td>0.597749</td>\n",
       "    </tr>\n",
       "    <tr>\n",
       "      <th>...</th>\n",
       "      <td>...</td>\n",
       "      <td>...</td>\n",
       "      <td>...</td>\n",
       "      <td>...</td>\n",
       "      <td>...</td>\n",
       "      <td>...</td>\n",
       "      <td>...</td>\n",
       "      <td>...</td>\n",
       "      <td>...</td>\n",
       "      <td>...</td>\n",
       "      <td>...</td>\n",
       "      <td>...</td>\n",
       "      <td>...</td>\n",
       "      <td>...</td>\n",
       "      <td>...</td>\n",
       "      <td>...</td>\n",
       "      <td>...</td>\n",
       "      <td>...</td>\n",
       "      <td>...</td>\n",
       "      <td>...</td>\n",
       "      <td>...</td>\n",
       "    </tr>\n",
       "    <tr>\n",
       "      <th>981089</th>\n",
       "      <td>646228695</td>\n",
       "      <td>216747867</td>\n",
       "      <td>8805</td>\n",
       "      <td>0</td>\n",
       "      <td>410</td>\n",
       "      <td>1</td>\n",
       "      <td>1</td>\n",
       "      <td>23000.0</td>\n",
       "      <td>True</td>\n",
       "      <td>NaN</td>\n",
       "      <td>...</td>\n",
       "      <td>0.608618</td>\n",
       "      <td>557.0</td>\n",
       "      <td>339.0</td>\n",
       "      <td>1</td>\n",
       "      <td>339.0</td>\n",
       "      <td>557.0</td>\n",
       "      <td>0.608618</td>\n",
       "      <td>2174256.0</td>\n",
       "      <td>3637407.0</td>\n",
       "      <td>0.597749</td>\n",
       "    </tr>\n",
       "    <tr>\n",
       "      <th>981090</th>\n",
       "      <td>646321314</td>\n",
       "      <td>216747867</td>\n",
       "      <td>5708</td>\n",
       "      <td>0</td>\n",
       "      <td>411</td>\n",
       "      <td>0</td>\n",
       "      <td>0</td>\n",
       "      <td>13000.0</td>\n",
       "      <td>True</td>\n",
       "      <td>NaN</td>\n",
       "      <td>...</td>\n",
       "      <td>0.453099</td>\n",
       "      <td>4776.0</td>\n",
       "      <td>2164.0</td>\n",
       "      <td>1</td>\n",
       "      <td>2164.0</td>\n",
       "      <td>4776.0</td>\n",
       "      <td>0.453099</td>\n",
       "      <td>2174256.0</td>\n",
       "      <td>3637407.0</td>\n",
       "      <td>0.597749</td>\n",
       "    </tr>\n",
       "    <tr>\n",
       "      <th>981091</th>\n",
       "      <td>646393443</td>\n",
       "      <td>216747867</td>\n",
       "      <td>5434</td>\n",
       "      <td>0</td>\n",
       "      <td>412</td>\n",
       "      <td>0</td>\n",
       "      <td>0</td>\n",
       "      <td>66000.0</td>\n",
       "      <td>True</td>\n",
       "      <td>NaN</td>\n",
       "      <td>...</td>\n",
       "      <td>0.507086</td>\n",
       "      <td>1623.0</td>\n",
       "      <td>823.0</td>\n",
       "      <td>1</td>\n",
       "      <td>823.0</td>\n",
       "      <td>1623.0</td>\n",
       "      <td>0.507086</td>\n",
       "      <td>2174256.0</td>\n",
       "      <td>3637407.0</td>\n",
       "      <td>0.597749</td>\n",
       "    </tr>\n",
       "    <tr>\n",
       "      <th>981092</th>\n",
       "      <td>646445632</td>\n",
       "      <td>216747867</td>\n",
       "      <td>6429</td>\n",
       "      <td>0</td>\n",
       "      <td>413</td>\n",
       "      <td>3</td>\n",
       "      <td>1</td>\n",
       "      <td>37000.0</td>\n",
       "      <td>True</td>\n",
       "      <td>NaN</td>\n",
       "      <td>...</td>\n",
       "      <td>0.541939</td>\n",
       "      <td>3517.0</td>\n",
       "      <td>1906.0</td>\n",
       "      <td>1</td>\n",
       "      <td>1906.0</td>\n",
       "      <td>3517.0</td>\n",
       "      <td>0.541939</td>\n",
       "      <td>2174256.0</td>\n",
       "      <td>3637407.0</td>\n",
       "      <td>0.597749</td>\n",
       "    </tr>\n",
       "    <tr>\n",
       "      <th>981093</th>\n",
       "      <td>690225760</td>\n",
       "      <td>216747867</td>\n",
       "      <td>9010</td>\n",
       "      <td>0</td>\n",
       "      <td>414</td>\n",
       "      <td>2</td>\n",
       "      <td>1</td>\n",
       "      <td>16000.0</td>\n",
       "      <td>True</td>\n",
       "      <td>NaN</td>\n",
       "      <td>...</td>\n",
       "      <td>0.799107</td>\n",
       "      <td>448.0</td>\n",
       "      <td>358.0</td>\n",
       "      <td>1</td>\n",
       "      <td>358.0</td>\n",
       "      <td>448.0</td>\n",
       "      <td>0.799107</td>\n",
       "      <td>2174256.0</td>\n",
       "      <td>3637407.0</td>\n",
       "      <td>0.597749</td>\n",
       "    </tr>\n",
       "  </tbody>\n",
       "</table>\n",
       "<p>981094 rows × 26 columns</p>\n",
       "</div>"
      ],
      "text/plain": [
       "         timestamp    user_id  content_id  content_type_id  task_container_id  \\\n",
       "0       9871729962  196122333        3992                0                242   \n",
       "1       9871801320  196122333        9510                0                243   \n",
       "2       9871852731  196122333        5214                0                244   \n",
       "3       9872436636  196122333        5334                0                245   \n",
       "4       9872617214  196122333        3722                0                246   \n",
       "...            ...        ...         ...              ...                ...   \n",
       "981089   646228695  216747867        8805                0                410   \n",
       "981090   646321314  216747867        5708                0                411   \n",
       "981091   646393443  216747867        5434                0                412   \n",
       "981092   646445632  216747867        6429                0                413   \n",
       "981093   690225760  216747867        9010                0                414   \n",
       "\n",
       "        user_answer  answered_correctly  prior_question_elapsed_time  \\\n",
       "0                 0                   1                      19000.0   \n",
       "1                 3                   0                      15000.0   \n",
       "2                 3                   1                      13000.0   \n",
       "3                 0                   0                      16000.0   \n",
       "4                 2                   1                      16000.0   \n",
       "...             ...                 ...                          ...   \n",
       "981089            1                   1                      23000.0   \n",
       "981090            0                   0                      13000.0   \n",
       "981091            0                   0                      66000.0   \n",
       "981092            3                   1                      37000.0   \n",
       "981093            2                   1                      16000.0   \n",
       "\n",
       "        prior_question_had_explanation  mean_user_accuracy  ...  \\\n",
       "0                                 True            0.611722  ...   \n",
       "1                                 True            0.611722  ...   \n",
       "2                                 True            0.611722  ...   \n",
       "3                                 True            0.611722  ...   \n",
       "4                                 True            0.611722  ...   \n",
       "...                                ...                 ...  ...   \n",
       "981089                            True                 NaN  ...   \n",
       "981090                            True                 NaN  ...   \n",
       "981091                            True                 NaN  ...   \n",
       "981092                            True                 NaN  ...   \n",
       "981093                            True                 NaN  ...   \n",
       "\n",
       "        mean_accuracy  question_Asked  right_answers  bundle_size  \\\n",
       "0            0.867188           384.0          333.0            1   \n",
       "1            0.533800           429.0          229.0            1   \n",
       "2            0.715385          1040.0          744.0            1   \n",
       "3            0.674593          2271.0         1532.0            1   \n",
       "4            0.719101           890.0          640.0            1   \n",
       "...               ...             ...            ...          ...   \n",
       "981089       0.608618           557.0          339.0            1   \n",
       "981090       0.453099          4776.0         2164.0            1   \n",
       "981091       0.507086          1623.0          823.0            1   \n",
       "981092       0.541939          3517.0         1906.0            1   \n",
       "981093       0.799107           448.0          358.0            1   \n",
       "\n",
       "        bundle_rignt_answers bundle_questions_asked  bundle_accuracy  \\\n",
       "0                      333.0                  384.0         0.867188   \n",
       "1                      229.0                  429.0         0.533800   \n",
       "2                      744.0                 1040.0         0.715385   \n",
       "3                     1532.0                 2271.0         0.674593   \n",
       "4                      640.0                  890.0         0.719101   \n",
       "...                      ...                    ...              ...   \n",
       "981089                 339.0                  557.0         0.608618   \n",
       "981090                2164.0                 4776.0         0.453099   \n",
       "981091                 823.0                 1623.0         0.507086   \n",
       "981092                1906.0                 3517.0         0.541939   \n",
       "981093                 358.0                  448.0         0.799107   \n",
       "\n",
       "        part_rignt_answers  part_questions_asked  part_accuracy  \n",
       "0                2174256.0             3637407.0       0.597749  \n",
       "1                2174256.0             3637407.0       0.597749  \n",
       "2                2174256.0             3637407.0       0.597749  \n",
       "3                2174256.0             3637407.0       0.597749  \n",
       "4                2174256.0             3637407.0       0.597749  \n",
       "...                    ...                   ...            ...  \n",
       "981089           2174256.0             3637407.0       0.597749  \n",
       "981090           2174256.0             3637407.0       0.597749  \n",
       "981091           2174256.0             3637407.0       0.597749  \n",
       "981092           2174256.0             3637407.0       0.597749  \n",
       "981093           2174256.0             3637407.0       0.597749  \n",
       "\n",
       "[981094 rows x 26 columns]"
      ]
     },
     "execution_count": 31,
     "metadata": {},
     "output_type": "execute_result"
    }
   ],
   "source": [
    "train_part_df"
   ]
  },
  {
   "cell_type": "code",
   "execution_count": 32,
   "metadata": {
    "execution": {
     "iopub.execute_input": "2020-11-26T05:58:45.211382Z",
     "iopub.status.busy": "2020-11-26T05:58:45.210738Z",
     "iopub.status.idle": "2020-11-26T05:58:45.278630Z",
     "shell.execute_reply": "2020-11-26T05:58:45.278044Z"
    },
    "papermill": {
     "duration": 0.11243,
     "end_time": "2020-11-26T05:58:45.278758",
     "exception": false,
     "start_time": "2020-11-26T05:58:45.166328",
     "status": "completed"
    },
    "tags": []
   },
   "outputs": [],
   "source": [
    "train_part_df['prior_question_had_explanation'] = train_part_df['prior_question_had_explanation'].fillna(value = False).astype(bool)\n",
    "train_part_df.fillna(value = -1, inplace = True)"
   ]
  },
  {
   "cell_type": "code",
   "execution_count": 33,
   "metadata": {
    "execution": {
     "iopub.execute_input": "2020-11-26T05:58:45.366144Z",
     "iopub.status.busy": "2020-11-26T05:58:45.364417Z",
     "iopub.status.idle": "2020-11-26T05:58:45.482122Z",
     "shell.execute_reply": "2020-11-26T05:58:45.481588Z"
    },
    "papermill": {
     "duration": 0.164639,
     "end_time": "2020-11-26T05:58:45.482242",
     "exception": false,
     "start_time": "2020-11-26T05:58:45.317603",
     "status": "completed"
    },
    "tags": []
   },
   "outputs": [],
   "source": [
    "train_part_df = train_part_df[features + [target]]\n"
   ]
  },
  {
   "cell_type": "code",
   "execution_count": 34,
   "metadata": {
    "execution": {
     "iopub.execute_input": "2020-11-26T05:58:45.579360Z",
     "iopub.status.busy": "2020-11-26T05:58:45.578717Z",
     "iopub.status.idle": "2020-11-26T05:58:46.663386Z",
     "shell.execute_reply": "2020-11-26T05:58:46.662708Z"
    },
    "papermill": {
     "duration": 1.128023,
     "end_time": "2020-11-26T05:58:46.663532",
     "exception": false,
     "start_time": "2020-11-26T05:58:45.535509",
     "status": "completed"
    },
    "tags": []
   },
   "outputs": [],
   "source": [
    "from lightgbm import LGBMClassifier\n",
    "lgbm = LGBMClassifier(\n",
    "    num_leaves=31, \n",
    "    max_depth= 2, \n",
    "    n_estimators = 25, \n",
    "    min_child_samples = 1000, \n",
    "    subsample=0.7, \n",
    "    subsample_freq=5,\n",
    "    n_jobs= -1,\n",
    "    is_higher_better = True,\n",
    "    first_metric_only = True\n",
    ")"
   ]
  },
  {
   "cell_type": "code",
   "execution_count": 35,
   "metadata": {
    "execution": {
     "iopub.execute_input": "2020-11-26T05:58:46.778656Z",
     "iopub.status.busy": "2020-11-26T05:58:46.777450Z",
     "iopub.status.idle": "2020-11-26T05:58:49.310453Z",
     "shell.execute_reply": "2020-11-26T05:58:49.311203Z"
    },
    "papermill": {
     "duration": 2.608656,
     "end_time": "2020-11-26T05:58:49.311396",
     "exception": false,
     "start_time": "2020-11-26T05:58:46.702740",
     "status": "completed"
    },
    "tags": []
   },
   "outputs": [
    {
     "data": {
      "text/plain": [
       "LGBMClassifier(first_metric_only=True, is_higher_better=True, max_depth=2,\n",
       "               min_child_samples=1000, n_estimators=25, subsample=0.7,\n",
       "               subsample_freq=5)"
      ]
     },
     "execution_count": 35,
     "metadata": {},
     "output_type": "execute_result"
    }
   ],
   "source": [
    "lgbm.fit(train_part_df[features], train_part_df[target])"
   ]
  },
  {
   "cell_type": "code",
   "execution_count": 36,
   "metadata": {
    "execution": {
     "iopub.execute_input": "2020-11-26T05:58:49.456587Z",
     "iopub.status.busy": "2020-11-26T05:58:49.455728Z",
     "iopub.status.idle": "2020-11-26T05:58:51.038471Z",
     "shell.execute_reply": "2020-11-26T05:58:51.037822Z"
    },
    "papermill": {
     "duration": 1.671142,
     "end_time": "2020-11-26T05:58:51.038608",
     "exception": false,
     "start_time": "2020-11-26T05:58:49.367466",
     "status": "completed"
    },
    "tags": []
   },
   "outputs": [
    {
     "data": {
      "text/plain": [
       "0.7235547157924487"
      ]
     },
     "execution_count": 36,
     "metadata": {},
     "output_type": "execute_result"
    }
   ],
   "source": [
    "from sklearn.metrics import roc_auc_score\n",
    "roc_auc_score(train_part_df[target].values, lgbm.predict_proba(train_part_df[features])[:,1])"
   ]
  },
  {
   "cell_type": "code",
   "execution_count": 37,
   "metadata": {
    "execution": {
     "iopub.execute_input": "2020-11-26T05:58:51.122640Z",
     "iopub.status.busy": "2020-11-26T05:58:51.121943Z",
     "iopub.status.idle": "2020-11-26T05:58:51.134448Z",
     "shell.execute_reply": "2020-11-26T05:58:51.133853Z"
    },
    "papermill": {
     "duration": 0.056414,
     "end_time": "2020-11-26T05:58:51.134583",
     "exception": false,
     "start_time": "2020-11-26T05:58:51.078169",
     "status": "completed"
    },
    "tags": []
   },
   "outputs": [],
   "source": [
    "import riiideducation\n",
    "\n",
    "env = riiideducation.make_env()"
   ]
  },
  {
   "cell_type": "code",
   "execution_count": 38,
   "metadata": {
    "execution": {
     "iopub.execute_input": "2020-11-26T05:58:51.220662Z",
     "iopub.status.busy": "2020-11-26T05:58:51.219977Z",
     "iopub.status.idle": "2020-11-26T05:58:51.223148Z",
     "shell.execute_reply": "2020-11-26T05:58:51.222506Z"
    },
    "papermill": {
     "duration": 0.047913,
     "end_time": "2020-11-26T05:58:51.223258",
     "exception": false,
     "start_time": "2020-11-26T05:58:51.175345",
     "status": "completed"
    },
    "tags": []
   },
   "outputs": [],
   "source": [
    "iter_test = env.iter_test()\n"
   ]
  },
  {
   "cell_type": "code",
   "execution_count": 39,
   "metadata": {
    "execution": {
     "iopub.execute_input": "2020-11-26T05:58:51.311784Z",
     "iopub.status.busy": "2020-11-26T05:58:51.310773Z",
     "iopub.status.idle": "2020-11-26T05:58:51.313901Z",
     "shell.execute_reply": "2020-11-26T05:58:51.313290Z"
    },
    "papermill": {
     "duration": 0.051369,
     "end_time": "2020-11-26T05:58:51.314021",
     "exception": false,
     "start_time": "2020-11-26T05:58:51.262652",
     "status": "completed"
    },
    "tags": []
   },
   "outputs": [],
   "source": [
    "from sklearn.metrics import roc_auc_score"
   ]
  },
  {
   "cell_type": "code",
   "execution_count": 40,
   "metadata": {
    "execution": {
     "iopub.execute_input": "2020-11-26T05:58:51.403761Z",
     "iopub.status.busy": "2020-11-26T05:58:51.403053Z",
     "iopub.status.idle": "2020-11-26T05:58:51.910309Z",
     "shell.execute_reply": "2020-11-26T05:58:51.910947Z"
    },
    "papermill": {
     "duration": 0.556818,
     "end_time": "2020-11-26T05:58:51.911114",
     "exception": false,
     "start_time": "2020-11-26T05:58:51.354296",
     "status": "completed"
    },
    "tags": []
   },
   "outputs": [],
   "source": [
    "for (test_df, sample_prediction_df) in iter_test:\n",
    "    test_df = test_df.merge(user_answers_df, how = 'left', on = 'user_id')\n",
    "    test_df = test_df.merge(question, how = 'left', left_on = 'content_id', right_on = 'question_id')\n",
    "    test_df = test_df.merge(bundle_answers_df, how = 'left', on = 'bundle_id')\n",
    "    test_df = test_df.merge(part_answers_df, how = 'left', on = 'part')\n",
    "    \n",
    "    test_df['prior_question_had_explanation'] = test_df['prior_question_had_explanation'].fillna(value = False).astype(bool)\n",
    "    test_df.fillna(value = -1, inplace = True)\n",
    "\n",
    "    test_df['answered_correctly'] = lgbm.predict_proba(test_df[features])[:,1]\n",
    "    env.predict(test_df.loc[test_df['content_type_id'] == 0, ['row_id', 'answered_correctly']])"
   ]
  },
  {
   "cell_type": "code",
   "execution_count": null,
   "metadata": {
    "papermill": {
     "duration": 0.039218,
     "end_time": "2020-11-26T05:58:51.989888",
     "exception": false,
     "start_time": "2020-11-26T05:58:51.950670",
     "status": "completed"
    },
    "tags": []
   },
   "outputs": [],
   "source": []
  }
 ],
 "metadata": {
  "kernelspec": {
   "display_name": "Python 3",
   "language": "python",
   "name": "python3"
  },
  "language_info": {
   "codemirror_mode": {
    "name": "ipython",
    "version": 3
   },
   "file_extension": ".py",
   "mimetype": "text/x-python",
   "name": "python",
   "nbconvert_exporter": "python",
   "pygments_lexer": "ipython3",
   "version": "3.7.6"
  },
  "papermill": {
   "duration": 44.384089,
   "end_time": "2020-11-26T05:58:52.138622",
   "environment_variables": {},
   "exception": null,
   "input_path": "__notebook__.ipynb",
   "output_path": "__notebook__.ipynb",
   "parameters": {},
   "start_time": "2020-11-26T05:58:07.754533",
   "version": "2.1.0"
  }
 },
 "nbformat": 4,
 "nbformat_minor": 4
}
